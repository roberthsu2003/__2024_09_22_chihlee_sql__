{
 "cells": [
  {
   "cell_type": "code",
   "execution_count": 3,
   "metadata": {},
   "outputs": [],
   "source": [
    "import psycopg2\n",
    "\n",
    "conn = psycopg2.connect(host='192.168.0.252',database=\"mydatabase_a31\",user='a31',password='raspberry')"
   ]
  },
  {
   "cell_type": "code",
   "execution_count": 4,
   "metadata": {},
   "outputs": [],
   "source": [
    "import psycopg2\n",
    "\n",
    "conn = psycopg2.connect(host='192.168.0.252',database=\"mydatabase_a31\",user='a31',password='raspberry')\n",
    "\n",
    "sql = '''CREATE TABLE IF NOT EXISTS 市場(\n",
    "\tname VARCHAR(20),\n",
    "\tcountry VARCHAR(20),\n",
    "\tPRIMARY KEY(name),\n",
    "\tUNIQUE(name,country) /*不可以有重覆的資料*/\n",
    ");'''\n",
    "\n",
    "cursor = conn.cursor()\n",
    "cursor.execute(sql)\n",
    "\n",
    "\n",
    "sql1 = '''\n",
    "CREATE TABLE IF NOT EXISTS 股市(\n",
    "\tstock_id SERIAL,\n",
    "\tdate DATE,\n",
    "\topen NUMERIC(17,10),\n",
    "\thigh NUMERIC(17,10),\n",
    "\tlow NUMERIC(17,10),\n",
    "\tclose NUMERIC(17,10),\n",
    "\tadj_close NUMERIC(17,10),\n",
    "\tvolume BIGINT DEFAULT 0,\n",
    "\tname VARCHAR(20),\n",
    "\tPRIMARY KEY(stock_id),\t\n",
    "\tUNIQUE(date,name),\n",
    "\tFOREIGN KEY(name) REFERENCES 市場(name)\n",
    "\tON DELETE NO ACTION\n",
    "\tON UPDATE CASCADE\n",
    ");\n",
    "'''\n",
    "\n",
    "cursor.execute(sql1)\n",
    "conn.commit()\n",
    "\n",
    "cursor.close()\n",
    "conn.close()\n",
    "\n"
   ]
  },
  {
   "cell_type": "code",
   "execution_count": 5,
   "metadata": {},
   "outputs": [],
   "source": [
    "import psycopg2\n",
    "\n",
    "conn = psycopg2.connect(host='192.168.0.252',database=\"mydatabase_a31\",user='a31',password='raspberry')\n",
    "\n",
    "with conn:\n",
    "    with conn.cursor() as cursor:\n",
    "        sql = '''CREATE TABLE IF NOT EXISTS 市場(\n",
    "        name VARCHAR(20),\n",
    "        country VARCHAR(20),\n",
    "        PRIMARY KEY(name),\n",
    "        UNIQUE(name,country) /*不可以有重覆的資料*/\n",
    "        );'''\n",
    "\n",
    "        cursor.execute(sql)\n",
    "    \n",
    "    with conn.cursor() as cursor:\n",
    "        sql = '''CREATE TABLE IF NOT EXISTS 股市(\n",
    "            stock_id SERIAL,\n",
    "            date DATE,\n",
    "            open NUMERIC(17,10),\n",
    "            high NUMERIC(17,10),\n",
    "            low NUMERIC(17,10),\n",
    "            close NUMERIC(17,10),\n",
    "            adj_close NUMERIC(17,10),\n",
    "            volume BIGINT DEFAULT 0,\n",
    "            name VARCHAR(20),\n",
    "            PRIMARY KEY(stock_id),\t\n",
    "            UNIQUE(date,name),\n",
    "            FOREIGN KEY(name) REFERENCES 市場(name)\n",
    "            ON DELETE NO ACTION\n",
    "            ON UPDATE CASCADE\n",
    "        );'''\n",
    "        cursor.execute(sql)\n",
    "    \n",
    "conn.close()"
   ]
  }
 ],
 "metadata": {
  "kernelspec": {
   "display_name": "chillee-sql",
   "language": "python",
   "name": "python3"
  },
  "language_info": {
   "codemirror_mode": {
    "name": "ipython",
    "version": 3
   },
   "file_extension": ".py",
   "mimetype": "text/x-python",
   "name": "python",
   "nbconvert_exporter": "python",
   "pygments_lexer": "ipython3",
   "version": "3.10.15"
  }
 },
 "nbformat": 4,
 "nbformat_minor": 2
}

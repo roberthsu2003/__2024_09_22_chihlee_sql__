{
 "cells": [
  {
   "cell_type": "markdown",
   "metadata": {},
   "source": [
    "#### python 連線postgreSQL"
   ]
  },
  {
   "cell_type": "code",
   "execution_count": 1,
   "metadata": {},
   "outputs": [
    {
     "name": "stdout",
     "output_type": "stream",
     "text": [
      "Requirement already satisfied: psycopg2-binary in /opt/miniconda3/envs/chillee-sql/lib/python3.10/site-packages (2.9.10)\n"
     ]
    }
   ],
   "source": [
    "#安裝postgreSQL connection\n",
    "!pip install psycopg2-binary"
   ]
  },
  {
   "cell_type": "code",
   "execution_count": 2,
   "metadata": {},
   "outputs": [
    {
     "name": "stdout",
     "output_type": "stream",
     "text": [
      "\u001b[31mERROR: Could not open requirements file: [Errno 2] No such file or directory: 'requirements.txt'\u001b[0m\u001b[31m\n",
      "\u001b[0m"
     ]
    }
   ],
   "source": [
    "#透過requirements.txt安裝所有套件\n",
    "!pip install -r requirements.txt"
   ]
  },
  {
   "cell_type": "code",
   "execution_count": 15,
   "metadata": {},
   "outputs": [
    {
     "data": {
      "text/plain": [
       "psycopg2.extensions.connection"
      ]
     },
     "execution_count": 15,
     "metadata": {},
     "output_type": "execute_result"
    }
   ],
   "source": [
    "# Connect to your postgres DB\n",
    "import psycopg2\n",
    "conn = psycopg2.connect(\n",
    "    database=\"mydatabase_a31\",\n",
    "    user=\"a31\",\n",
    "    password=\"raspberry\",\n",
    "    host=\"piRobert0301.local\",  # 通常是 '127.0.0.1' 或 'localhost'\n",
    "    port=\"5432\")\n",
    "\n",
    "type(conn)"
   ]
  },
  {
   "cell_type": "code",
   "execution_count": 16,
   "metadata": {},
   "outputs": [
    {
     "data": {
      "text/plain": [
       "psycopg2.extensions.cursor"
      ]
     },
     "execution_count": 16,
     "metadata": {},
     "output_type": "execute_result"
    }
   ],
   "source": [
    "cur = conn.cursor()\n",
    "type(cur)"
   ]
  },
  {
   "cell_type": "code",
   "execution_count": 17,
   "metadata": {},
   "outputs": [],
   "source": [
    "cur.execute(\"SELECT * FROM stations;\")"
   ]
  },
  {
   "cell_type": "code",
   "execution_count": 18,
   "metadata": {},
   "outputs": [
    {
     "data": {
      "text/plain": [
       "list"
      ]
     },
     "execution_count": 18,
     "metadata": {},
     "output_type": "execute_result"
    }
   ],
   "source": [
    "rows = cur.fetchall()\n",
    "type(rows)"
   ]
  },
  {
   "cell_type": "code",
   "execution_count": 21,
   "metadata": {},
   "outputs": [
    {
     "name": "stdout",
     "output_type": "stream",
     "text": [
      "基隆\n",
      "三坑\n",
      "八堵\n",
      "七堵\n",
      "百福\n",
      "五堵\n",
      "汐止\n",
      "汐科\n",
      "南港\n",
      "松山\n",
      "臺北\n",
      "臺北-環島\n",
      "萬華\n",
      "板橋\n",
      "浮洲\n",
      "樹林\n",
      "南樹林\n",
      "山佳\n",
      "鶯歌\n",
      "桃園\n",
      "內壢\n",
      "中壢\n",
      "埔心\n",
      "楊梅\n",
      "富岡\n",
      "新富\n",
      "北湖\n",
      "湖口\n",
      "新豐\n",
      "竹北\n",
      "北新竹\n",
      "千甲\n",
      "新莊\n",
      "竹中\n",
      "六家\n",
      "上員\n",
      "榮華\n",
      "竹東\n",
      "橫山\n",
      "九讚頭\n",
      "合興\n",
      "富貴\n",
      "內灣\n",
      "新竹\n",
      "三姓橋\n",
      "香山\n",
      "崎頂\n",
      "竹南\n",
      "談文\n",
      "大山\n",
      "後龍\n",
      "龍港\n",
      "白沙屯\n",
      "新埔\n",
      "通霄\n",
      "苑裡\n",
      "日南\n",
      "大甲\n",
      "臺中港\n",
      "清水\n",
      "沙鹿\n",
      "龍井\n",
      "大肚\n",
      "追分\n",
      "造橋\n",
      "豐富\n",
      "苗栗\n",
      "南勢\n",
      "銅鑼\n",
      "三義\n",
      "泰安\n",
      "后里\n",
      "豐原\n",
      "栗林\n",
      "潭子\n",
      "頭家厝\n",
      "松竹\n",
      "太原\n",
      "精武\n",
      "臺中\n",
      "五權\n",
      "大慶\n",
      "烏日\n",
      "新烏日\n",
      "成功\n",
      "彰化\n",
      "花壇\n",
      "大村\n",
      "員林\n",
      "永靖\n",
      "社頭\n",
      "田中\n",
      "二水\n",
      "源泉\n",
      "濁水\n",
      "龍泉\n",
      "集集\n",
      "水里\n",
      "車埕\n",
      "林內\n",
      "石榴\n",
      "斗六\n",
      "斗南\n",
      "石龜\n",
      "大林\n",
      "民雄\n",
      "嘉北\n",
      "嘉義\n",
      "水上\n",
      "南靖\n",
      "後壁\n",
      "新營\n",
      "柳營\n",
      "林鳳營\n",
      "隆田\n",
      "拔林\n",
      "善化\n",
      "南科\n",
      "新市\n",
      "永康\n",
      "大橋\n",
      "臺南\n",
      "保安\n",
      "仁德\n",
      "中洲\n",
      "長榮大學\n",
      "沙崙\n",
      "大湖\n",
      "路竹\n",
      "岡山\n",
      "橋頭\n",
      "楠梓\n",
      "新左營\n",
      "左營\n",
      "內惟\n",
      "美術館\n",
      "鼓山\n",
      "三塊厝\n",
      "高雄\n",
      "民族\n",
      "科工館\n",
      "正義\n",
      "鳳山\n",
      "後庄\n",
      "九曲堂\n",
      "六塊厝\n",
      "屏東\n",
      "歸來\n",
      "麟洛\n",
      "西勢\n",
      "竹田\n",
      "潮州\n",
      "崁頂\n",
      "南州\n",
      "鎮安\n",
      "林邊\n",
      "佳冬\n",
      "東海\n",
      "枋寮\n",
      "加祿\n",
      "內獅\n",
      "枋山\n",
      "枋野\n",
      "大武\n",
      "瀧溪\n",
      "金崙\n",
      "太麻里\n",
      "知本\n",
      "康樂\n",
      "南方小站\n",
      "潮州基地\n",
      "臺東\n",
      "山里\n",
      "鹿野\n",
      "瑞源\n",
      "瑞和\n",
      "關山\n",
      "海端\n",
      "池上\n",
      "富里\n",
      "東竹\n",
      "東里\n",
      "玉里\n",
      "三民\n",
      "瑞穗\n",
      "富源\n",
      "大富\n",
      "光復\n",
      "萬榮\n",
      "鳳林\n",
      "南平\n",
      "林榮新光\n",
      "豐田\n",
      "壽豐\n",
      "平和\n",
      "志學\n",
      "吉安\n",
      "花蓮\n",
      "北埔\n",
      "景美\n",
      "新城\n",
      "崇德\n",
      "和仁\n",
      "和平\n",
      "漢本\n",
      "武塔\n",
      "南澳\n",
      "東澳\n",
      "永樂\n",
      "蘇澳\n",
      "蘇澳新\n",
      "新馬\n",
      "冬山\n",
      "羅東\n",
      "中里\n",
      "二結\n",
      "宜蘭\n",
      "四城\n",
      "礁溪\n",
      "頂埔\n",
      "頭城\n",
      "外澳\n",
      "龜山\n",
      "大溪\n",
      "大里\n",
      "石城\n",
      "福隆\n",
      "貢寮\n",
      "雙溪\n",
      "牡丹\n",
      "三貂嶺\n",
      "大華\n",
      "十分\n",
      "望古\n",
      "嶺腳\n",
      "平溪\n",
      "菁桐\n",
      "猴硐\n",
      "瑞芳\n",
      "海科館\n",
      "八斗子\n",
      "四腳亭\n",
      "暖暖\n"
     ]
    }
   ],
   "source": [
    "for row in rows:\n",
    "    print(row[2])"
   ]
  },
  {
   "cell_type": "code",
   "execution_count": 12,
   "metadata": {},
   "outputs": [],
   "source": [
    "cur.close()\n",
    "conn.close()"
   ]
  }
 ],
 "metadata": {
  "kernelspec": {
   "display_name": "chillee-sql",
   "language": "python",
   "name": "python3"
  },
  "language_info": {
   "codemirror_mode": {
    "name": "ipython",
    "version": 3
   },
   "file_extension": ".py",
   "mimetype": "text/x-python",
   "name": "python",
   "nbconvert_exporter": "python",
   "pygments_lexer": "ipython3",
   "version": "3.10.15"
  }
 },
 "nbformat": 4,
 "nbformat_minor": 2
}
